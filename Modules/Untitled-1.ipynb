{
 "cells": [
  {
   "cell_type": "code",
   "execution_count": 1,
   "metadata": {},
   "outputs": [],
   "source": [
    "from torchmetrics.detection.mean_ap import MeanAveragePrecision\n",
    "\n",
    "class CustomMAP(MeanAveragePrecision):\n",
    "    '''\n",
    "    Customized MeanAveragePrecision for pytorch-lightning\n",
    "    '''\n",
    "    def __init__(self):\n",
    "        super().__init__()\n",
    "\n",
    "    def compute(self):\n",
    "        '''\n",
    "        Compute metric\n",
    "        Returns:\n",
    "            metric: metric value mAP\n",
    "        '''\n",
    "        metric = super().compute()\n",
    "      \n",
    "        return metric['map']"
   ]
  },
  {
   "cell_type": "code",
   "execution_count": 2,
   "metadata": {},
   "outputs": [
    {
     "name": "stdout",
     "output_type": "stream",
     "text": [
      "tensor(0.6000)\n"
     ]
    }
   ],
   "source": [
    "metrics = CustomMAP()\n",
    "\n",
    "from torch import tensor\n",
    "# create prediction and ground truth tensors\n",
    "preds = [\n",
    "    dict(\n",
    "    boxes=tensor([[258.0, 41.0, 606.0, 285.0]]),\n",
    "    scores=tensor([0.536]),\n",
    "    labels=tensor([0]),\n",
    "    )\n",
    "]\n",
    "target = [\n",
    "    dict(\n",
    "    boxes=tensor([[214.0, 41.0, 562.0, 285.0]]),\n",
    "    labels=tensor([0]),\n",
    "    )\n",
    "]\n",
    "\n",
    "# compute metric\n",
    "metrics.update(preds, target)\n",
    "print(metrics.compute())"
   ]
  }
 ],
 "metadata": {
  "kernelspec": {
   "display_name": "AISeed",
   "language": "python",
   "name": "python3"
  },
  "language_info": {
   "codemirror_mode": {
    "name": "ipython",
    "version": 3
   },
   "file_extension": ".py",
   "mimetype": "text/x-python",
   "name": "python",
   "nbconvert_exporter": "python",
   "pygments_lexer": "ipython3",
   "version": "3.9.16"
  },
  "orig_nbformat": 4
 },
 "nbformat": 4,
 "nbformat_minor": 2
}
